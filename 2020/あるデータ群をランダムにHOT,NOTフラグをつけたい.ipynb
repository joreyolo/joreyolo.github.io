{
 "cells": [
  {
   "cell_type": "markdown",
   "metadata": {},
   "source": [
    "## あるデータ群をランダムにHOT,NOTフラグをつけたい"
   ]
  },
  {
   "cell_type": "code",
   "execution_count": null,
   "metadata": {},
   "outputs": [],
   "source": [
    "import pandas as pd\n",
    "df = pd.read_csv('./sample.csv')\n",
    "\n",
    "import random\n",
    "num  = 100000\n",
    "list_not = [0] *num\n",
    "num_hot = 10000\n",
    "list_hot = [1]*num_hot\n",
    "\n",
    "list_ = list_not + list_hot\n",
    "#打亂列表內部順序\n",
    "random.shuffle(list_)\n",
    "\n",
    "df['HOT'] = list_\n",
    "df.loc[df['HOT'] ==1,'NOT'] = 0\n",
    "df.loc[df['HOT'] ==0,'NOT'] = 1  \n",
    "\n",
    "df.to_csv('...')"
   ]
  },
  {
   "cell_type": "code",
   "execution_count": null,
   "metadata": {},
   "outputs": [],
   "source": []
  }
 ],
 "metadata": {
  "kernelspec": {
   "display_name": "Python 3",
   "language": "python",
   "name": "python3"
  },
  "language_info": {
   "codemirror_mode": {
    "name": "ipython",
    "version": 3
   },
   "file_extension": ".py",
   "mimetype": "text/x-python",
   "name": "python",
   "nbconvert_exporter": "python",
   "pygments_lexer": "ipython3",
   "version": "3.6.12"
  }
 },
 "nbformat": 4,
 "nbformat_minor": 4
}
