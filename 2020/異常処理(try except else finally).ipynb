{
 "cells": [
  {
   "cell_type": "code",
   "execution_count": 54,
   "metadata": {},
   "outputs": [],
   "source": [
    "import pandas as pd \n",
    "weight_list = ['下書き','左向き','すべて表示']\n",
    "list_1 = [1,2,3]\n",
    "list_2 = [4,5,6]\n",
    "close_words = ['ロマ民族','下書き','人間国宝','任務','住み着き','作り出さ']\n",
    "vocabury = ['右向き','左向き']"
   ]
  },
  {
   "cell_type": "code",
   "execution_count": 55,
   "metadata": {},
   "outputs": [
    {
     "name": "stdout",
     "output_type": "stream",
     "text": [
      "下書き\n"
     ]
    }
   ],
   "source": [
    "for i in weight_list:\n",
    "    if i in close_words:\n",
    "        print(i)"
   ]
  },
  {
   "cell_type": "code",
   "execution_count": 56,
   "metadata": {},
   "outputs": [],
   "source": [
    "dist = []\n",
    "for i in weight_list:\n",
    "    dist_1 = []\n",
    "    try:\n",
    "        for j in list_1:\n",
    "            dist_1.append(i)\n",
    "    except:\n",
    "        print('word {} not in vocabulary'.format(i)) \n",
    "    else:\n",
    "        for m in list_2:\n",
    "            dist_1.append(m)\n",
    "    dist.append(dist_1)\n",
    "    \n",
    "df_output = pd.DataFrame(dist, index = weight_list, columns = close_words)"
   ]
  },
  {
   "cell_type": "code",
   "execution_count": 57,
   "metadata": {},
   "outputs": [
    {
     "data": {
      "text/html": [
       "<div>\n",
       "<style scoped>\n",
       "    .dataframe tbody tr th:only-of-type {\n",
       "        vertical-align: middle;\n",
       "    }\n",
       "\n",
       "    .dataframe tbody tr th {\n",
       "        vertical-align: top;\n",
       "    }\n",
       "\n",
       "    .dataframe thead th {\n",
       "        text-align: right;\n",
       "    }\n",
       "</style>\n",
       "<table border=\"1\" class=\"dataframe\">\n",
       "  <thead>\n",
       "    <tr style=\"text-align: right;\">\n",
       "      <th></th>\n",
       "      <th>ロマ民族</th>\n",
       "      <th>下書き</th>\n",
       "      <th>人間国宝</th>\n",
       "      <th>任務</th>\n",
       "      <th>住み着き</th>\n",
       "      <th>作り出さ</th>\n",
       "    </tr>\n",
       "  </thead>\n",
       "  <tbody>\n",
       "    <tr>\n",
       "      <th>下書き</th>\n",
       "      <td>下書き</td>\n",
       "      <td>下書き</td>\n",
       "      <td>下書き</td>\n",
       "      <td>4</td>\n",
       "      <td>5</td>\n",
       "      <td>6</td>\n",
       "    </tr>\n",
       "    <tr>\n",
       "      <th>左向き</th>\n",
       "      <td>左向き</td>\n",
       "      <td>左向き</td>\n",
       "      <td>左向き</td>\n",
       "      <td>4</td>\n",
       "      <td>5</td>\n",
       "      <td>6</td>\n",
       "    </tr>\n",
       "    <tr>\n",
       "      <th>すべて表示</th>\n",
       "      <td>すべて表示</td>\n",
       "      <td>すべて表示</td>\n",
       "      <td>すべて表示</td>\n",
       "      <td>4</td>\n",
       "      <td>5</td>\n",
       "      <td>6</td>\n",
       "    </tr>\n",
       "  </tbody>\n",
       "</table>\n",
       "</div>"
      ],
      "text/plain": [
       "        ロマ民族    下書き   人間国宝  任務  住み着き  作り出さ\n",
       "下書き      下書き    下書き    下書き   4     5     6\n",
       "左向き      左向き    左向き    左向き   4     5     6\n",
       "すべて表示  すべて表示  すべて表示  すべて表示   4     5     6"
      ]
     },
     "execution_count": 57,
     "metadata": {},
     "output_type": "execute_result"
    }
   ],
   "source": [
    "df_output"
   ]
  },
  {
   "cell_type": "code",
   "execution_count": 39,
   "metadata": {},
   "outputs": [
    {
     "data": {
      "text/plain": [
       "[[], [], []]"
      ]
     },
     "execution_count": 39,
     "metadata": {},
     "output_type": "execute_result"
    }
   ],
   "source": [
    "##説明：\n",
    "try:異常が発生しそうな処理部分\n",
    "except:異常処理→複数ブロック同時記載可能\n",
    "else:異常発生する場合、実行しない。異常発生しない場合、try部分＋else部分同時実行\n",
    "finally:異常があってもなくても実行する"
   ]
  },
  {
   "cell_type": "code",
   "execution_count": 53,
   "metadata": {},
   "outputs": [
    {
     "data": {
      "text/plain": [
       "[['下書き', '下書き', '下書き', 4, 5, 6],\n",
       " ['左向き', '左向き', '左向き', 4, 5, 6],\n",
       " ['すべて表示', 'すべて表示', 'すべて表示', 4, 5, 6]]"
      ]
     },
     "execution_count": 53,
     "metadata": {},
     "output_type": "execute_result"
    }
   ],
   "source": [
    "dist"
   ]
  },
  {
   "cell_type": "code",
   "execution_count": null,
   "metadata": {},
   "outputs": [],
   "source": []
  }
 ],
 "metadata": {
  "kernelspec": {
   "display_name": "Python 3",
   "language": "python",
   "name": "python3"
  },
  "language_info": {
   "codemirror_mode": {
    "name": "ipython",
    "version": 3
   },
   "file_extension": ".py",
   "mimetype": "text/x-python",
   "name": "python",
   "nbconvert_exporter": "python",
   "pygments_lexer": "ipython3",
   "version": "3.6.12"
  }
 },
 "nbformat": 4,
 "nbformat_minor": 4
}
